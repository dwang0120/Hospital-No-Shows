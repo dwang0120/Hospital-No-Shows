{
 "cells": [
  {
   "cell_type": "markdown",
   "metadata": {},
   "source": [
    "Dennis Wang\n",
    "\n",
    "Dataset from https://www.kaggle.com/datasets/samuelotiattakorah/healthcare-no-show-appointment-data\n",
    "\n",
    "Data is not iid and large (100k+ rows)\n"
   ]
  },
  {
   "cell_type": "code",
   "execution_count": 1,
   "metadata": {
    "trusted": true
   },
   "outputs": [
    {
     "name": "stdout",
     "output_type": "stream",
     "text": [
      "\u001b[42m[ OK ]\u001b[0m Python version is 3.12.5\n",
      "\n",
      "\u001b[42m[ OK ]\u001b[0m numpy version 1.26.4 is installed.\n",
      "\u001b[42m[ OK ]\u001b[0m matplotlib version 3.9.2 is installed.\n",
      "\u001b[42m[ OK ]\u001b[0m sklearn version 1.5.1 is installed.\n",
      "\u001b[42m[ OK ]\u001b[0m pandas version 2.2.2 is installed.\n",
      "\u001b[42m[ OK ]\u001b[0m xgboost version 2.1.1 is installed.\n",
      "\u001b[42m[ OK ]\u001b[0m shap version 0.45.1 is installed.\n",
      "\u001b[42m[ OK ]\u001b[0m plotly version 5.23.0 is installed.\n"
     ]
    }
   ],
   "source": [
    "from __future__ import print_function\n",
    "from packaging.version import parse as Version\n",
    "from platform import python_version\n",
    "\n",
    "OK = '\\x1b[42m[ OK ]\\x1b[0m'\n",
    "FAIL = \"\\x1b[41m[FAIL]\\x1b[0m\"\n",
    "\n",
    "try:\n",
    "    import importlib\n",
    "except ImportError:\n",
    "    print(FAIL, \"Python version 3.12 is required,\"\n",
    "                \" but %s is installed.\" % sys.version)\n",
    "\n",
    "def import_version(pkg, min_ver, fail_msg=\"\"):\n",
    "    mod = None\n",
    "    try:\n",
    "        mod = importlib.import_module(pkg)\n",
    "        if pkg in {'PIL'}:\n",
    "            ver = mod.VERSION\n",
    "        else:\n",
    "            ver = mod.__version__\n",
    "        if Version(ver) == Version(min_ver):\n",
    "            print(OK, \"%s version %s is installed.\"\n",
    "                  % (lib, min_ver))\n",
    "        else:\n",
    "            print(FAIL, \"%s version %s is required, but %s installed.\"\n",
    "                  % (lib, min_ver, ver))    \n",
    "    except ImportError:\n",
    "        print(FAIL, '%s not installed. %s' % (pkg, fail_msg))\n",
    "    return mod\n",
    "\n",
    "\n",
    "# first check the python version\n",
    "pyversion = Version(python_version())\n",
    "\n",
    "if pyversion >= Version(\"3.12.5\"):\n",
    "    print(OK, \"Python version is %s\" % pyversion)\n",
    "elif pyversion < Version(\"3.12.5\"):\n",
    "    print(FAIL, \"Python version 3.12.5 is required,\"\n",
    "                \" but %s is installed.\" % pyversion)\n",
    "else:\n",
    "    print(FAIL, \"Unknown Python version: %s\" % pyversion)\n",
    "\n",
    "    \n",
    "print()\n",
    "requirements = {'numpy': \"1.26.4\", 'matplotlib': \"3.9.2\",'sklearn': \"1.5.1\", \n",
    "                'pandas': \"2.2.2\",'xgboost': \"2.1.1\", 'shap': \"0.45.1\", \n",
    "                'plotly': \"5.23.0\"}\n",
    "\n",
    "# now the dependencies\n",
    "for lib, required_version in list(requirements.items()):\n",
    "    import_version(lib, required_version)"
   ]
  },
  {
   "cell_type": "markdown",
   "metadata": {},
   "source": [
    "## EDA"
   ]
  },
  {
   "cell_type": "code",
   "execution_count": 2,
   "metadata": {
    "trusted": false
   },
   "outputs": [],
   "source": [
    "import pandas as pd\n",
    "import numpy as np\n",
    "import matplotlib.pyplot as plt"
   ]
  },
  {
   "cell_type": "code",
   "execution_count": 3,
   "metadata": {
    "trusted": false
   },
   "outputs": [
    {
     "data": {
      "text/html": [
       "<div>\n",
       "<style scoped>\n",
       "    .dataframe tbody tr th:only-of-type {\n",
       "        vertical-align: middle;\n",
       "    }\n",
       "\n",
       "    .dataframe tbody tr th {\n",
       "        vertical-align: top;\n",
       "    }\n",
       "\n",
       "    .dataframe thead th {\n",
       "        text-align: right;\n",
       "    }\n",
       "</style>\n",
       "<table border=\"1\" class=\"dataframe\">\n",
       "  <thead>\n",
       "    <tr style=\"text-align: right;\">\n",
       "      <th></th>\n",
       "      <th>PatientId</th>\n",
       "      <th>AppointmentID</th>\n",
       "      <th>Gender</th>\n",
       "      <th>ScheduledDay</th>\n",
       "      <th>AppointmentDay</th>\n",
       "      <th>Age</th>\n",
       "      <th>Neighbourhood</th>\n",
       "      <th>Scholarship</th>\n",
       "      <th>Hipertension</th>\n",
       "      <th>Diabetes</th>\n",
       "      <th>Alcoholism</th>\n",
       "      <th>Handcap</th>\n",
       "      <th>SMS_received</th>\n",
       "      <th>Showed_up</th>\n",
       "      <th>Date.diff</th>\n",
       "    </tr>\n",
       "  </thead>\n",
       "  <tbody>\n",
       "    <tr>\n",
       "      <th>0</th>\n",
       "      <td>29872499824296</td>\n",
       "      <td>5642903</td>\n",
       "      <td>F</td>\n",
       "      <td>2016-04-29</td>\n",
       "      <td>2016-04-29</td>\n",
       "      <td>62</td>\n",
       "      <td>JARDIM DA PENHA</td>\n",
       "      <td>False</td>\n",
       "      <td>True</td>\n",
       "      <td>False</td>\n",
       "      <td>False</td>\n",
       "      <td>False</td>\n",
       "      <td>False</td>\n",
       "      <td>True</td>\n",
       "      <td>0</td>\n",
       "    </tr>\n",
       "    <tr>\n",
       "      <th>1</th>\n",
       "      <td>558997776694438</td>\n",
       "      <td>5642503</td>\n",
       "      <td>M</td>\n",
       "      <td>2016-04-29</td>\n",
       "      <td>2016-04-29</td>\n",
       "      <td>56</td>\n",
       "      <td>JARDIM DA PENHA</td>\n",
       "      <td>False</td>\n",
       "      <td>False</td>\n",
       "      <td>False</td>\n",
       "      <td>False</td>\n",
       "      <td>False</td>\n",
       "      <td>False</td>\n",
       "      <td>True</td>\n",
       "      <td>0</td>\n",
       "    </tr>\n",
       "    <tr>\n",
       "      <th>2</th>\n",
       "      <td>4262962299951</td>\n",
       "      <td>5642549</td>\n",
       "      <td>F</td>\n",
       "      <td>2016-04-29</td>\n",
       "      <td>2016-04-29</td>\n",
       "      <td>62</td>\n",
       "      <td>MATA DA PRAIA</td>\n",
       "      <td>False</td>\n",
       "      <td>False</td>\n",
       "      <td>False</td>\n",
       "      <td>False</td>\n",
       "      <td>False</td>\n",
       "      <td>False</td>\n",
       "      <td>True</td>\n",
       "      <td>0</td>\n",
       "    </tr>\n",
       "    <tr>\n",
       "      <th>3</th>\n",
       "      <td>867951213174</td>\n",
       "      <td>5642828</td>\n",
       "      <td>F</td>\n",
       "      <td>2016-04-29</td>\n",
       "      <td>2016-04-29</td>\n",
       "      <td>8</td>\n",
       "      <td>PONTAL DE CAMBURI</td>\n",
       "      <td>False</td>\n",
       "      <td>False</td>\n",
       "      <td>False</td>\n",
       "      <td>False</td>\n",
       "      <td>False</td>\n",
       "      <td>False</td>\n",
       "      <td>True</td>\n",
       "      <td>0</td>\n",
       "    </tr>\n",
       "    <tr>\n",
       "      <th>4</th>\n",
       "      <td>8841186448183</td>\n",
       "      <td>5642494</td>\n",
       "      <td>F</td>\n",
       "      <td>2016-04-29</td>\n",
       "      <td>2016-04-29</td>\n",
       "      <td>56</td>\n",
       "      <td>JARDIM DA PENHA</td>\n",
       "      <td>False</td>\n",
       "      <td>True</td>\n",
       "      <td>True</td>\n",
       "      <td>False</td>\n",
       "      <td>False</td>\n",
       "      <td>False</td>\n",
       "      <td>True</td>\n",
       "      <td>0</td>\n",
       "    </tr>\n",
       "  </tbody>\n",
       "</table>\n",
       "</div>"
      ],
      "text/plain": [
       "         PatientId AppointmentID Gender ScheduledDay AppointmentDay  Age  \\\n",
       "0   29872499824296       5642903      F   2016-04-29     2016-04-29   62   \n",
       "1  558997776694438       5642503      M   2016-04-29     2016-04-29   56   \n",
       "2    4262962299951       5642549      F   2016-04-29     2016-04-29   62   \n",
       "3     867951213174       5642828      F   2016-04-29     2016-04-29    8   \n",
       "4    8841186448183       5642494      F   2016-04-29     2016-04-29   56   \n",
       "\n",
       "       Neighbourhood  Scholarship  Hipertension  Diabetes  Alcoholism  \\\n",
       "0    JARDIM DA PENHA        False          True     False       False   \n",
       "1    JARDIM DA PENHA        False         False     False       False   \n",
       "2      MATA DA PRAIA        False         False     False       False   \n",
       "3  PONTAL DE CAMBURI        False         False     False       False   \n",
       "4    JARDIM DA PENHA        False          True      True       False   \n",
       "\n",
       "   Handcap  SMS_received  Showed_up  Date.diff  \n",
       "0    False         False       True          0  \n",
       "1    False         False       True          0  \n",
       "2    False         False       True          0  \n",
       "3    False         False       True          0  \n",
       "4    False         False       True          0  "
      ]
     },
     "metadata": {},
     "output_type": "display_data"
    },
    {
     "data": {
      "text/plain": [
       "(106987, 15)"
      ]
     },
     "metadata": {},
     "output_type": "display_data"
    },
    {
     "name": "stdout",
     "output_type": "stream",
     "text": [
      "<class 'pandas.core.frame.DataFrame'>\n",
      "RangeIndex: 106987 entries, 0 to 106986\n",
      "Data columns (total 15 columns):\n",
      " #   Column          Non-Null Count   Dtype \n",
      "---  ------          --------------   ----- \n",
      " 0   PatientId       106987 non-null  object\n",
      " 1   AppointmentID   106987 non-null  object\n",
      " 2   Gender          106987 non-null  object\n",
      " 3   ScheduledDay    106987 non-null  object\n",
      " 4   AppointmentDay  106987 non-null  object\n",
      " 5   Age             106987 non-null  int64 \n",
      " 6   Neighbourhood   106987 non-null  object\n",
      " 7   Scholarship     106987 non-null  bool  \n",
      " 8   Hipertension    106987 non-null  bool  \n",
      " 9   Diabetes        106987 non-null  bool  \n",
      " 10  Alcoholism      106987 non-null  bool  \n",
      " 11  Handcap         106987 non-null  bool  \n",
      " 12  SMS_received    106987 non-null  bool  \n",
      " 13  Showed_up       106987 non-null  bool  \n",
      " 14  Date.diff       106987 non-null  int64 \n",
      "dtypes: bool(7), int64(2), object(6)\n",
      "memory usage: 7.2+ MB\n"
     ]
    },
    {
     "data": {
      "text/plain": [
       "None"
      ]
     },
     "metadata": {},
     "output_type": "display_data"
    }
   ],
   "source": [
    "df = pd.read_csv('data/healthcare_noshows_appointments.csv', dtype={'PatientId': str, 'AppointmentID': str})\n",
    "#df['PatientId'] = df['PatientId'].astype(int).astype(str)\n",
    "display(df.head())\n",
    "display(df.shape)\n",
    "display(df.info())"
   ]
  },
  {
   "cell_type": "markdown",
   "metadata": {},
   "source": [
    "The inconsistency of the columns names are really annoying me so I'm renaming them."
   ]
  },
  {
   "cell_type": "code",
   "execution_count": 13,
   "metadata": {},
   "outputs": [
    {
     "name": "stdout",
     "output_type": "stream",
     "text": [
      "<class 'pandas.core.frame.DataFrame'>\n",
      "RangeIndex: 106987 entries, 0 to 106986\n",
      "Data columns (total 14 columns):\n",
      " #   Column          Non-Null Count   Dtype \n",
      "---  ------          --------------   ----- \n",
      " 0   PatientID       106987 non-null  object\n",
      " 1   Gender          106987 non-null  object\n",
      " 2   ScheduledDay    106987 non-null  object\n",
      " 3   AppointmentDay  106987 non-null  object\n",
      " 4   Age             106987 non-null  int64 \n",
      " 5   Neighbourhood   106987 non-null  object\n",
      " 6   Scholarship     106987 non-null  bool  \n",
      " 7   Hypertension    106987 non-null  bool  \n",
      " 8   Diabetes        106987 non-null  bool  \n",
      " 9   Alcoholism      106987 non-null  bool  \n",
      " 10  Handcap         106987 non-null  bool  \n",
      " 11  SMS_received    106987 non-null  bool  \n",
      " 12  ShowedUp        106987 non-null  bool  \n",
      " 13  DateDiff        106987 non-null  int64 \n",
      "dtypes: bool(7), int64(2), object(5)\n",
      "memory usage: 6.4+ MB\n"
     ]
    },
    {
     "data": {
      "text/plain": [
       "None"
      ]
     },
     "metadata": {},
     "output_type": "display_data"
    }
   ],
   "source": [
    "df = df.rename(columns={\"PatientId\": \"PatientID\", \"Showed_up\": \"ShowedUp\", \"Date.diff\": \"DateDiff\",\"Hipertension\":\"Hypertension\"})\n",
    "display(df.info())"
   ]
  },
  {
   "cell_type": "markdown",
   "metadata": {},
   "source": [
    "It seems a lot of our columns are binary. We know each row represents each appointment, but to check if there's overlap between patients:"
   ]
  },
  {
   "cell_type": "code",
   "execution_count": 5,
   "metadata": {},
   "outputs": [
    {
     "data": {
      "text/plain": [
       "60270"
      ]
     },
     "metadata": {},
     "output_type": "display_data"
    },
    {
     "data": {
      "text/plain": [
       "106987"
      ]
     },
     "metadata": {},
     "output_type": "display_data"
    }
   ],
   "source": [
    "display(len(df['PatientID'].unique()))\n",
    "display(len(df['AppointmentID'].unique()))"
   ]
  },
  {
   "cell_type": "markdown",
   "metadata": {},
   "source": [
    "Since some patients appear more than once in the dataset, we will have to stratify by patient when splitting later on."
   ]
  },
  {
   "cell_type": "markdown",
   "metadata": {},
   "source": [
    "Immediately drop column 'AppointmentID' because we don't need the unique appointment identifier.\n",
    "\n",
    "I'm considering dropping columns 'ScheduledDay' and 'AppointmentDay' because DateDiff relies on those two columns and sees like an easier attribute to work with.\n",
    "But maybe we can do something with the day of the week of either the ScheduledDay or AppointmentDay?"
   ]
  },
  {
   "cell_type": "code",
   "execution_count": 6,
   "metadata": {},
   "outputs": [],
   "source": [
    "df = df.drop(['AppointmentID'], axis=1)"
   ]
  },
  {
   "cell_type": "code",
   "execution_count": 32,
   "metadata": {},
   "outputs": [],
   "source": [
    "df = df[['PatientID', 'Gender', 'ScheduledDay', 'AppointmentDay', 'DateDiff', 'Age',\n",
    "       'Neighbourhood', 'Scholarship', 'Hypertension', 'Diabetes',\n",
    "       'Alcoholism', 'Handcap', 'SMS_received','ShowedUp']]\n",
    "X = df.iloc[:,:-1]\n",
    "Y = df.iloc[:,-1:]"
   ]
  },
  {
   "cell_type": "code",
   "execution_count": 7,
   "metadata": {
    "trusted": false
   },
   "outputs": [
    {
     "data": {
      "image/png": "[encoded data removed]",
      "text/plain": [
       "<Figure size 600x300 with 1 Axes>"
      ]
     },
     "metadata": {},
     "output_type": "display_data"
    }
   ],
   "source": [
    "# visualizing our target variable\n",
    "plt.figure(figsize=(6,3))\n",
    "df['ShowedUp'].value_counts().plot.barh()\n",
    "plt.xlabel('count')\n",
    "plt.ylabel('Showed Up?')\n",
    "plt.show()\n",
    "# is it okay if i don't have a caption if I talk about the plot in the markdown?"
   ]
  },
  {
   "cell_type": "markdown",
   "metadata": {},
   "source": [
    "Looks like our categorical target variable, ShowedUp, is highly imbalanced. Most people thankfully show up to their appointment."
   ]
  },
  {
   "cell_type": "markdown",
   "metadata": {},
   "source": [
    "It makes sense that patients with more previous readmissions in the past 180 days would have longer stays in the hospital, but what's more interesting is that as the 'rcount' increases, the variability in 'lengthofstay' generally decreases."
   ]
  },
  {
   "cell_type": "markdown",
   "metadata": {},
   "source": [
    "I know that obesity is one the leading factors in all-cause mortality in the United States. I wonder if there's a relationship between BMI and length of stay, or potentially other variables in our dataset."
   ]
  },
  {
   "cell_type": "code",
   "execution_count": 8,
   "metadata": {},
   "outputs": [
    {
     "data": {
      "text/html": [
       "<div>\n",
       "<style scoped>\n",
       "    .dataframe tbody tr th:only-of-type {\n",
       "        vertical-align: middle;\n",
       "    }\n",
       "\n",
       "    .dataframe tbody tr th {\n",
       "        vertical-align: top;\n",
       "    }\n",
       "\n",
       "    .dataframe thead th {\n",
       "        text-align: right;\n",
       "    }\n",
       "</style>\n",
       "<table border=\"1\" class=\"dataframe\">\n",
       "  <thead>\n",
       "    <tr style=\"text-align: right;\">\n",
       "      <th></th>\n",
       "    </tr>\n",
       "  </thead>\n",
       "  <tbody>\n",
       "    <tr>\n",
       "      <th>0</th>\n",
       "    </tr>\n",
       "    <tr>\n",
       "      <th>1</th>\n",
       "    </tr>\n",
       "    <tr>\n",
       "      <th>2</th>\n",
       "    </tr>\n",
       "    <tr>\n",
       "      <th>3</th>\n",
       "    </tr>\n",
       "    <tr>\n",
       "      <th>4</th>\n",
       "    </tr>\n",
       "    <tr>\n",
       "      <th>...</th>\n",
       "    </tr>\n",
       "    <tr>\n",
       "      <th>106982</th>\n",
       "    </tr>\n",
       "    <tr>\n",
       "      <th>106983</th>\n",
       "    </tr>\n",
       "    <tr>\n",
       "      <th>106984</th>\n",
       "    </tr>\n",
       "    <tr>\n",
       "      <th>106985</th>\n",
       "    </tr>\n",
       "    <tr>\n",
       "      <th>106986</th>\n",
       "    </tr>\n",
       "  </tbody>\n",
       "</table>\n",
       "<p>106987 rows × 0 columns</p>\n",
       "</div>"
      ],
      "text/plain": [
       "Empty DataFrame\n",
       "Columns: []\n",
       "Index: [0, 1, 2, 3, 4, 5, 6, 7, 8, 9, 10, 11, 12, 13, 14, 15, 16, 17, 18, 19, 20, 21, 22, 23, 24, 25, 26, 27, 28, 29, 30, 31, 32, 33, 34, 35, 36, 37, 38, 39, 40, 41, 42, 43, 44, 45, 46, 47, 48, 49, 50, 51, 52, 53, 54, 55, 56, 57, 58, 59, 60, 61, 62, 63, 64, 65, 66, 67, 68, 69, 70, 71, 72, 73, 74, 75, 76, 77, 78, 79, 80, 81, 82, 83, 84, 85, 86, 87, 88, 89, 90, 91, 92, 93, 94, 95, 96, 97, 98, 99, ...]\n",
       "\n",
       "[106987 rows x 0 columns]"
      ]
     },
     "execution_count": 8,
     "metadata": {},
     "output_type": "execute_result"
    }
   ],
   "source": [
    "df.loc[:, df.isnull().any() ]"
   ]
  },
  {
   "cell_type": "markdown",
   "metadata": {},
   "source": [
    "no nulls\n",
    "\n",
    "# Testing relationships between our features and target variable"
   ]
  },
  {
   "cell_type": "code",
   "execution_count": 42,
   "metadata": {},
   "outputs": [
    {
     "data": {
      "text/plain": [
       "<Figure size 2000x1200 with 0 Axes>"
      ]
     },
     "metadata": {},
     "output_type": "display_data"
    },
    {
     "data": {
      "image/png": "[encoded data removed]",
      "text/plain": [
       "<Figure size 480x480 with 2 Axes>"
      ]
     },
     "metadata": {},
     "output_type": "display_data"
    },
    {
     "data": {
      "text/html": [
       "<style type=\"text/css\">\n",
       "#T_3ae61_row0_col0, #T_3ae61_row1_col1, #T_3ae61_row2_col2, #T_3ae61_row3_col3, #T_3ae61_row4_col4, #T_3ae61_row5_col5, #T_3ae61_row6_col6, #T_3ae61_row7_col7, #T_3ae61_row8_col8 {\n",
       "  background-color: #b40426;\n",
       "  color: #f1f1f1;\n",
       "}\n",
       "#T_3ae61_row0_col1, #T_3ae61_row1_col0, #T_3ae61_row1_col2, #T_3ae61_row1_col3, #T_3ae61_row6_col5, #T_3ae61_row7_col3, #T_3ae61_row7_col4, #T_3ae61_row7_col8, #T_3ae61_row8_col6, #T_3ae61_row8_col7 {\n",
       "  background-color: #3b4cc0;\n",
       "  color: #f1f1f1;\n",
       "}\n",
       "#T_3ae61_row0_col2 {\n",
       "  background-color: #e0dbd8;\n",
       "  color: #000000;\n",
       "}\n",
       "#T_3ae61_row0_col3 {\n",
       "  background-color: #a2c1ff;\n",
       "  color: #000000;\n",
       "}\n",
       "#T_3ae61_row0_col4, #T_3ae61_row4_col7 {\n",
       "  background-color: #6180e9;\n",
       "  color: #f1f1f1;\n",
       "}\n",
       "#T_3ae61_row0_col5, #T_3ae61_row2_col6, #T_3ae61_row5_col2 {\n",
       "  background-color: #5a78e4;\n",
       "  color: #f1f1f1;\n",
       "}\n",
       "#T_3ae61_row0_col6, #T_3ae61_row2_col4 {\n",
       "  background-color: #5f7fe8;\n",
       "  color: #f1f1f1;\n",
       "}\n",
       "#T_3ae61_row0_col7, #T_3ae61_row2_col8 {\n",
       "  background-color: #779af7;\n",
       "  color: #f1f1f1;\n",
       "}\n",
       "#T_3ae61_row0_col8 {\n",
       "  background-color: #80a3fa;\n",
       "  color: #f1f1f1;\n",
       "}\n",
       "#T_3ae61_row1_col4 {\n",
       "  background-color: #4f69d9;\n",
       "  color: #f1f1f1;\n",
       "}\n",
       "#T_3ae61_row1_col5, #T_3ae61_row6_col2 {\n",
       "  background-color: #3e51c5;\n",
       "  color: #f1f1f1;\n",
       "}\n",
       "#T_3ae61_row1_col6 {\n",
       "  background-color: #5d7ce6;\n",
       "  color: #f1f1f1;\n",
       "}\n",
       "#T_3ae61_row1_col7, #T_3ae61_row1_col8, #T_3ae61_row4_col1 {\n",
       "  background-color: #6384eb;\n",
       "  color: #f1f1f1;\n",
       "}\n",
       "#T_3ae61_row2_col0 {\n",
       "  background-color: #ead5c9;\n",
       "  color: #000000;\n",
       "}\n",
       "#T_3ae61_row2_col1 {\n",
       "  background-color: #536edd;\n",
       "  color: #f1f1f1;\n",
       "}\n",
       "#T_3ae61_row2_col3 {\n",
       "  background-color: #cedaeb;\n",
       "  color: #000000;\n",
       "}\n",
       "#T_3ae61_row2_col5, #T_3ae61_row4_col2, #T_3ae61_row6_col0 {\n",
       "  background-color: #5b7ae5;\n",
       "  color: #f1f1f1;\n",
       "}\n",
       "#T_3ae61_row2_col7 {\n",
       "  background-color: #6788ee;\n",
       "  color: #f1f1f1;\n",
       "}\n",
       "#T_3ae61_row3_col0 {\n",
       "  background-color: #b3cdfb;\n",
       "  color: #000000;\n",
       "}\n",
       "#T_3ae61_row3_col1, #T_3ae61_row8_col1 {\n",
       "  background-color: #516ddb;\n",
       "  color: #f1f1f1;\n",
       "}\n",
       "#T_3ae61_row3_col2 {\n",
       "  background-color: #cdd9ec;\n",
       "  color: #000000;\n",
       "}\n",
       "#T_3ae61_row3_col4 {\n",
       "  background-color: #4a63d3;\n",
       "  color: #f1f1f1;\n",
       "}\n",
       "#T_3ae61_row3_col5, #T_3ae61_row5_col3 {\n",
       "  background-color: #5470de;\n",
       "  color: #f1f1f1;\n",
       "}\n",
       "#T_3ae61_row3_col6, #T_3ae61_row6_col1 {\n",
       "  background-color: #5977e3;\n",
       "  color: #f1f1f1;\n",
       "}\n",
       "#T_3ae61_row3_col7, #T_3ae61_row7_col0 {\n",
       "  background-color: #6485ec;\n",
       "  color: #f1f1f1;\n",
       "}\n",
       "#T_3ae61_row3_col8 {\n",
       "  background-color: #7093f3;\n",
       "  color: #f1f1f1;\n",
       "}\n",
       "#T_3ae61_row4_col0 {\n",
       "  background-color: #7597f6;\n",
       "  color: #f1f1f1;\n",
       "}\n",
       "#T_3ae61_row4_col3 {\n",
       "  background-color: #485fd1;\n",
       "  color: #f1f1f1;\n",
       "}\n",
       "#T_3ae61_row4_col5 {\n",
       "  background-color: #4358cb;\n",
       "  color: #f1f1f1;\n",
       "}\n",
       "#T_3ae61_row4_col6, #T_3ae61_row5_col6 {\n",
       "  background-color: #5572df;\n",
       "  color: #f1f1f1;\n",
       "}\n",
       "#T_3ae61_row4_col8 {\n",
       "  background-color: #6c8ff1;\n",
       "  color: #f1f1f1;\n",
       "}\n",
       "#T_3ae61_row5_col0 {\n",
       "  background-color: #7295f4;\n",
       "  color: #f1f1f1;\n",
       "}\n",
       "#T_3ae61_row5_col1 {\n",
       "  background-color: #5673e0;\n",
       "  color: #f1f1f1;\n",
       "}\n",
       "#T_3ae61_row5_col4, #T_3ae61_row8_col3 {\n",
       "  background-color: #465ecf;\n",
       "  color: #f1f1f1;\n",
       "}\n",
       "#T_3ae61_row5_col7 {\n",
       "  background-color: #6687ed;\n",
       "  color: #f1f1f1;\n",
       "}\n",
       "#T_3ae61_row5_col8, #T_3ae61_row8_col0 {\n",
       "  background-color: #6e90f2;\n",
       "  color: #f1f1f1;\n",
       "}\n",
       "#T_3ae61_row6_col3, #T_3ae61_row6_col4 {\n",
       "  background-color: #3d50c3;\n",
       "  color: #f1f1f1;\n",
       "}\n",
       "#T_3ae61_row6_col7 {\n",
       "  background-color: #dadce0;\n",
       "  color: #000000;\n",
       "}\n",
       "#T_3ae61_row6_col8 {\n",
       "  background-color: #4961d2;\n",
       "  color: #f1f1f1;\n",
       "}\n",
       "#T_3ae61_row7_col1 {\n",
       "  background-color: #506bda;\n",
       "  color: #f1f1f1;\n",
       "}\n",
       "#T_3ae61_row7_col2, #T_3ae61_row7_col5 {\n",
       "  background-color: #3c4ec2;\n",
       "  color: #f1f1f1;\n",
       "}\n",
       "#T_3ae61_row7_col6 {\n",
       "  background-color: #d3dbe7;\n",
       "  color: #000000;\n",
       "}\n",
       "#T_3ae61_row8_col2 {\n",
       "  background-color: #4c66d6;\n",
       "  color: #f1f1f1;\n",
       "}\n",
       "#T_3ae61_row8_col4 {\n",
       "  background-color: #455cce;\n",
       "  color: #f1f1f1;\n",
       "}\n",
       "#T_3ae61_row8_col5 {\n",
       "  background-color: #445acc;\n",
       "  color: #f1f1f1;\n",
       "}\n",
       "</style>\n",
       "<table id=\"T_3ae61\">\n",
       "  <thead>\n",
       "    <tr>\n",
       "      <th class=\"blank level0\" >&nbsp;</th>\n",
       "      <th id=\"T_3ae61_level0_col0\" class=\"col_heading level0 col0\" >Age</th>\n",
       "      <th id=\"T_3ae61_level0_col1\" class=\"col_heading level0 col1\" >Scholarship</th>\n",
       "      <th id=\"T_3ae61_level0_col2\" class=\"col_heading level0 col2\" >Hypertension</th>\n",
       "      <th id=\"T_3ae61_level0_col3\" class=\"col_heading level0 col3\" >Diabetes</th>\n",
       "      <th id=\"T_3ae61_level0_col4\" class=\"col_heading level0 col4\" >Alcoholism</th>\n",
       "      <th id=\"T_3ae61_level0_col5\" class=\"col_heading level0 col5\" >Handcap</th>\n",
       "      <th id=\"T_3ae61_level0_col6\" class=\"col_heading level0 col6\" >SMS_received</th>\n",
       "      <th id=\"T_3ae61_level0_col7\" class=\"col_heading level0 col7\" >DateDiff</th>\n",
       "      <th id=\"T_3ae61_level0_col8\" class=\"col_heading level0 col8\" >ShowedUp</th>\n",
       "    </tr>\n",
       "  </thead>\n",
       "  <tbody>\n",
       "    <tr>\n",
       "      <th id=\"T_3ae61_level0_row0\" class=\"row_heading level0 row0\" >Age</th>\n",
       "      <td id=\"T_3ae61_row0_col0\" class=\"data row0 col0\" >1.000000</td>\n",
       "      <td id=\"T_3ae61_row0_col1\" class=\"data row0 col1\" >-0.112699</td>\n",
       "      <td id=\"T_3ae61_row0_col2\" class=\"data row0 col2\" >0.502091</td>\n",
       "      <td id=\"T_3ae61_row0_col3\" class=\"data row0 col3\" >0.290631</td>\n",
       "      <td id=\"T_3ae61_row0_col4\" class=\"data row0 col4\" >0.090391</td>\n",
       "      <td id=\"T_3ae61_row0_col5\" class=\"data row0 col5\" >0.079726</td>\n",
       "      <td id=\"T_3ae61_row0_col6\" class=\"data row0 col6\" >0.005251</td>\n",
       "      <td id=\"T_3ae61_row0_col7\" class=\"data row0 col7\" >0.038880</td>\n",
       "      <td id=\"T_3ae61_row0_col8\" class=\"data row0 col8\" >0.067025</td>\n",
       "    </tr>\n",
       "    <tr>\n",
       "      <th id=\"T_3ae61_level0_row1\" class=\"row_heading level0 row1\" >Scholarship</th>\n",
       "      <td id=\"T_3ae61_row1_col0\" class=\"data row1 col0\" >-0.112699</td>\n",
       "      <td id=\"T_3ae61_row1_col1\" class=\"data row1 col1\" >1.000000</td>\n",
       "      <td id=\"T_3ae61_row1_col2\" class=\"data row1 col2\" >-0.024530</td>\n",
       "      <td id=\"T_3ae61_row1_col3\" class=\"data row1 col3\" >-0.027622</td>\n",
       "      <td id=\"T_3ae61_row1_col4\" class=\"data row1 col4\" >0.033527</td>\n",
       "      <td id=\"T_3ae61_row1_col5\" class=\"data row1 col5\" >-0.010465</td>\n",
       "      <td id=\"T_3ae61_row1_col6\" class=\"data row1 col6\" >-0.000010</td>\n",
       "      <td id=\"T_3ae61_row1_col7\" class=\"data row1 col7\" >-0.030439</td>\n",
       "      <td id=\"T_3ae61_row1_col8\" class=\"data row1 col8\" >-0.029370</td>\n",
       "    </tr>\n",
       "    <tr>\n",
       "      <th id=\"T_3ae61_level0_row2\" class=\"row_heading level0 row2\" >Hypertension</th>\n",
       "      <td id=\"T_3ae61_row2_col0\" class=\"data row2 col0\" >0.502091</td>\n",
       "      <td id=\"T_3ae61_row2_col1\" class=\"data row2 col1\" >-0.024530</td>\n",
       "      <td id=\"T_3ae61_row2_col2\" class=\"data row2 col2\" >1.000000</td>\n",
       "      <td id=\"T_3ae61_row2_col3\" class=\"data row2 col3\" >0.430827</td>\n",
       "      <td id=\"T_3ae61_row2_col4\" class=\"data row2 col4\" >0.085459</td>\n",
       "      <td id=\"T_3ae61_row2_col5\" class=\"data row2 col5\" >0.082909</td>\n",
       "      <td id=\"T_3ae61_row2_col6\" class=\"data row2 col6\" >-0.008805</td>\n",
       "      <td id=\"T_3ae61_row2_col7\" class=\"data row2 col7\" >-0.016996</td>\n",
       "      <td id=\"T_3ae61_row2_col8\" class=\"data row2 col8\" >0.037280</td>\n",
       "    </tr>\n",
       "    <tr>\n",
       "      <th id=\"T_3ae61_level0_row3\" class=\"row_heading level0 row3\" >Diabetes</th>\n",
       "      <td id=\"T_3ae61_row3_col0\" class=\"data row3 col0\" >0.290631</td>\n",
       "      <td id=\"T_3ae61_row3_col1\" class=\"data row3 col1\" >-0.027622</td>\n",
       "      <td id=\"T_3ae61_row3_col2\" class=\"data row3 col2\" >0.430827</td>\n",
       "      <td id=\"T_3ae61_row3_col3\" class=\"data row3 col3\" >1.000000</td>\n",
       "      <td id=\"T_3ae61_row3_col4\" class=\"data row3 col4\" >0.016874</td>\n",
       "      <td id=\"T_3ae61_row3_col5\" class=\"data row3 col5\" >0.057945</td>\n",
       "      <td id=\"T_3ae61_row3_col6\" class=\"data row3 col6\" >-0.016136</td>\n",
       "      <td id=\"T_3ae61_row3_col7\" class=\"data row3 col7\" >-0.027339</td>\n",
       "      <td id=\"T_3ae61_row3_col8\" class=\"data row3 col8\" >0.015928</td>\n",
       "    </tr>\n",
       "    <tr>\n",
       "      <th id=\"T_3ae61_level0_row4\" class=\"row_heading level0 row4\" >Alcoholism</th>\n",
       "      <td id=\"T_3ae61_row4_col0\" class=\"data row4 col0\" >0.090391</td>\n",
       "      <td id=\"T_3ae61_row4_col1\" class=\"data row4 col1\" >0.033527</td>\n",
       "      <td id=\"T_3ae61_row4_col2\" class=\"data row4 col2\" >0.085459</td>\n",
       "      <td id=\"T_3ae61_row4_col3\" class=\"data row4 col3\" >0.016874</td>\n",
       "      <td id=\"T_3ae61_row4_col4\" class=\"data row4 col4\" >1.000000</td>\n",
       "      <td id=\"T_3ae61_row4_col5\" class=\"data row4 col5\" >0.002864</td>\n",
       "      <td id=\"T_3ae61_row4_col6\" class=\"data row4 col6\" >-0.027403</td>\n",
       "      <td id=\"T_3ae61_row4_col7\" class=\"data row4 col7\" >-0.038949</td>\n",
       "      <td id=\"T_3ae61_row4_col8\" class=\"data row4 col8\" >0.000517</td>\n",
       "    </tr>\n",
       "    <tr>\n",
       "      <th id=\"T_3ae61_level0_row5\" class=\"row_heading level0 row5\" >Handcap</th>\n",
       "      <td id=\"T_3ae61_row5_col0\" class=\"data row5 col0\" >0.079726</td>\n",
       "      <td id=\"T_3ae61_row5_col1\" class=\"data row5 col1\" >-0.010465</td>\n",
       "      <td id=\"T_3ae61_row5_col2\" class=\"data row5 col2\" >0.082909</td>\n",
       "      <td id=\"T_3ae61_row5_col3\" class=\"data row5 col3\" >0.057945</td>\n",
       "      <td id=\"T_3ae61_row5_col4\" class=\"data row5 col4\" >0.002864</td>\n",
       "      <td id=\"T_3ae61_row5_col5\" class=\"data row5 col5\" >1.000000</td>\n",
       "      <td id=\"T_3ae61_row5_col6\" class=\"data row5 col6\" >-0.026256</td>\n",
       "      <td id=\"T_3ae61_row5_col7\" class=\"data row5 col7\" >-0.021101</td>\n",
       "      <td id=\"T_3ae61_row5_col8\" class=\"data row5 col8\" >0.007620</td>\n",
       "    </tr>\n",
       "    <tr>\n",
       "      <th id=\"T_3ae61_level0_row6\" class=\"row_heading level0 row6\" >SMS_received</th>\n",
       "      <td id=\"T_3ae61_row6_col0\" class=\"data row6 col0\" >0.005251</td>\n",
       "      <td id=\"T_3ae61_row6_col1\" class=\"data row6 col1\" >-0.000010</td>\n",
       "      <td id=\"T_3ae61_row6_col2\" class=\"data row6 col2\" >-0.008805</td>\n",
       "      <td id=\"T_3ae61_row6_col3\" class=\"data row6 col3\" >-0.016136</td>\n",
       "      <td id=\"T_3ae61_row6_col4\" class=\"data row6 col4\" >-0.027403</td>\n",
       "      <td id=\"T_3ae61_row6_col5\" class=\"data row6 col5\" >-0.026256</td>\n",
       "      <td id=\"T_3ae61_row6_col6\" class=\"data row6 col6\" >1.000000</td>\n",
       "      <td id=\"T_3ae61_row6_col7\" class=\"data row6 col7\" >0.396482</td>\n",
       "      <td id=\"T_3ae61_row6_col8\" class=\"data row6 col8\" >-0.127253</td>\n",
       "    </tr>\n",
       "    <tr>\n",
       "      <th id=\"T_3ae61_level0_row7\" class=\"row_heading level0 row7\" >DateDiff</th>\n",
       "      <td id=\"T_3ae61_row7_col0\" class=\"data row7 col0\" >0.038880</td>\n",
       "      <td id=\"T_3ae61_row7_col1\" class=\"data row7 col1\" >-0.030439</td>\n",
       "      <td id=\"T_3ae61_row7_col2\" class=\"data row7 col2\" >-0.016996</td>\n",
       "      <td id=\"T_3ae61_row7_col3\" class=\"data row7 col3\" >-0.027339</td>\n",
       "      <td id=\"T_3ae61_row7_col4\" class=\"data row7 col4\" >-0.038949</td>\n",
       "      <td id=\"T_3ae61_row7_col5\" class=\"data row7 col5\" >-0.021101</td>\n",
       "      <td id=\"T_3ae61_row7_col6\" class=\"data row7 col6\" >0.396482</td>\n",
       "      <td id=\"T_3ae61_row7_col7\" class=\"data row7 col7\" >1.000000</td>\n",
       "      <td id=\"T_3ae61_row7_col8\" class=\"data row7 col8\" >-0.185704</td>\n",
       "    </tr>\n",
       "    <tr>\n",
       "      <th id=\"T_3ae61_level0_row8\" class=\"row_heading level0 row8\" >ShowedUp</th>\n",
       "      <td id=\"T_3ae61_row8_col0\" class=\"data row8 col0\" >0.067025</td>\n",
       "      <td id=\"T_3ae61_row8_col1\" class=\"data row8 col1\" >-0.029370</td>\n",
       "      <td id=\"T_3ae61_row8_col2\" class=\"data row8 col2\" >0.037280</td>\n",
       "      <td id=\"T_3ae61_row8_col3\" class=\"data row8 col3\" >0.015928</td>\n",
       "      <td id=\"T_3ae61_row8_col4\" class=\"data row8 col4\" >0.000517</td>\n",
       "      <td id=\"T_3ae61_row8_col5\" class=\"data row8 col5\" >0.007620</td>\n",
       "      <td id=\"T_3ae61_row8_col6\" class=\"data row8 col6\" >-0.127253</td>\n",
       "      <td id=\"T_3ae61_row8_col7\" class=\"data row8 col7\" >-0.185704</td>\n",
       "      <td id=\"T_3ae61_row8_col8\" class=\"data row8 col8\" >1.000000</td>\n",
       "    </tr>\n",
       "  </tbody>\n",
       "</table>\n"
      ],
      "text/plain": [
       "<pandas.io.formats.style.Styler at 0x1da23885ac0>"
      ]
     },
     "execution_count": 42,
     "metadata": {},
     "output_type": "execute_result"
    }
   ],
   "source": [
    "from sklearn.metrics import ConfusionMatrixDisplay\n",
    "df_num = df[['Age','Scholarship','Hypertension','Diabetes','Alcoholism','Handcap','SMS_received', 'DateDiff', 'ShowedUp']]\n",
    "\n",
    "pearson_corr = df_num.corr(method='pearson')\n",
    "\n",
    "plt.figure(figsize = (20,12))\n",
    "plt.matshow(pearson_corr)\n",
    "plt.xticks(range(df_num.shape[1]), df_num.columns, rotation = 45)\n",
    "plt.yticks(range(df_num.shape[1]), df_num.columns)\n",
    "cb = plt.colorbar()\n",
    "plt.show()\n",
    "\n",
    "## or use .background_gradient()? I really prefer having the correlation # in the cell \n",
    "# but not sure how to do that with .matshow() without it getting too complicated\n",
    "pearson_corr.style.background_gradient(cmap='coolwarm')\n",
    "\n",
    "# or i could use seaborn...\n"
   ]
  },
  {
   "cell_type": "markdown",
   "metadata": {},
   "source": [
    "Not that much correlation between our features.\n",
    "\n",
    "How about linear correlations between our features and the target variable?"
   ]
  },
  {
   "cell_type": "code",
   "execution_count": 34,
   "metadata": {},
   "outputs": [
    {
     "data": {
      "text/html": [
       "<div>\n",
       "<style scoped>\n",
       "    .dataframe tbody tr th:only-of-type {\n",
       "        vertical-align: middle;\n",
       "    }\n",
       "\n",
       "    .dataframe tbody tr th {\n",
       "        vertical-align: top;\n",
       "    }\n",
       "\n",
       "    .dataframe thead th {\n",
       "        text-align: right;\n",
       "    }\n",
       "</style>\n",
       "<table border=\"1\" class=\"dataframe\">\n",
       "  <thead>\n",
       "    <tr style=\"text-align: right;\">\n",
       "      <th></th>\n",
       "      <th>ShowedUp</th>\n",
       "    </tr>\n",
       "  </thead>\n",
       "  <tbody>\n",
       "    <tr>\n",
       "      <th>0</th>\n",
       "      <td>True</td>\n",
       "    </tr>\n",
       "    <tr>\n",
       "      <th>1</th>\n",
       "      <td>True</td>\n",
       "    </tr>\n",
       "    <tr>\n",
       "      <th>2</th>\n",
       "      <td>True</td>\n",
       "    </tr>\n",
       "    <tr>\n",
       "      <th>3</th>\n",
       "      <td>True</td>\n",
       "    </tr>\n",
       "    <tr>\n",
       "      <th>4</th>\n",
       "      <td>True</td>\n",
       "    </tr>\n",
       "    <tr>\n",
       "      <th>...</th>\n",
       "      <td>...</td>\n",
       "    </tr>\n",
       "    <tr>\n",
       "      <th>106982</th>\n",
       "      <td>True</td>\n",
       "    </tr>\n",
       "    <tr>\n",
       "      <th>106983</th>\n",
       "      <td>True</td>\n",
       "    </tr>\n",
       "    <tr>\n",
       "      <th>106984</th>\n",
       "      <td>True</td>\n",
       "    </tr>\n",
       "    <tr>\n",
       "      <th>106985</th>\n",
       "      <td>True</td>\n",
       "    </tr>\n",
       "    <tr>\n",
       "      <th>106986</th>\n",
       "      <td>True</td>\n",
       "    </tr>\n",
       "  </tbody>\n",
       "</table>\n",
       "<p>106987 rows × 1 columns</p>\n",
       "</div>"
      ],
      "text/plain": [
       "        ShowedUp\n",
       "0           True\n",
       "1           True\n",
       "2           True\n",
       "3           True\n",
       "4           True\n",
       "...          ...\n",
       "106982      True\n",
       "106983      True\n",
       "106984      True\n",
       "106985      True\n",
       "106986      True\n",
       "\n",
       "[106987 rows x 1 columns]"
      ]
     },
     "execution_count": 34,
     "metadata": {},
     "output_type": "execute_result"
    }
   ],
   "source": [
    "Y"
   ]
  },
  {
   "cell_type": "code",
   "execution_count": 47,
   "metadata": {},
   "outputs": [
    {
     "data": {
      "text/plain": [
       "Text(0, 0.5, 'F-statistic')"
      ]
     },
     "execution_count": 47,
     "metadata": {},
     "output_type": "execute_result"
    },
    {
     "data": {
      "image/png": "[encoded data removed]",
      "text/plain": [
       "<Figure size 600x400 with 1 Axes>"
      ]
     },
     "metadata": {},
     "output_type": "display_data"
    }
   ],
   "source": [
    "from sklearn.feature_selection import f_regression\n",
    "\n",
    "X_nums = df_num.drop(['ShowedUp'], axis=1)\n",
    "Y_nums = np.ravel(df_num.iloc[:,-1:])\n",
    "\n",
    "f_statistic, p_values = f_regression(X_nums, Y_nums)\n",
    "\n",
    "cols = X_nums.columns\n",
    "f_df = pd.DataFrame(data = f_statistic, index = cols).sort_values(by=0, ascending = False).head(5)\n",
    "\n",
    "plt.figure(figsize=(6,4))\n",
    "plt.bar(x=f_df.index, height = f_df[0])\n",
    "plt.title('Top 5 Strongest Linear Correlations with Target Variable')\n",
    "plt.xlabel('Features')\n",
    "plt.ylabel('F-statistic')\n"
   ]
  },
  {
   "cell_type": "markdown",
   "metadata": {},
   "source": [
    "How about non-linear correlations? i.e. mutual information"
   ]
  },
  {
   "cell_type": "code",
   "execution_count": 48,
   "metadata": {},
   "outputs": [
    {
     "data": {
      "text/plain": [
       "Text(0, 0.5, 'Estimated Mutual Information')"
      ]
     },
     "execution_count": 48,
     "metadata": {},
     "output_type": "execute_result"
    },
    {
     "data": {
      "image/png": "[encoded data removed]",
      "text/plain": [
       "<Figure size 600x400 with 1 Axes>"
      ]
     },
     "metadata": {},
     "output_type": "display_data"
    }
   ],
   "source": [
    "from sklearn.feature_selection import mutual_info_regression\n",
    "mi = mutual_info_regression(X_nums, Y_nums)\n",
    "\n",
    "cols = X_nums.columns\n",
    "mi_df = pd.DataFrame(data = mi, index = cols).sort_values(by=0, ascending = False).head(5)\n",
    "\n",
    "plt.figure(figsize=(6,4))\n",
    "plt.bar(x=mi_df.index, height = f_df[0])\n",
    "plt.title('Top 5 Strongest Non-Linear Correlations with Target Variable')\n",
    "plt.xlabel('Features')\n",
    "plt.ylabel('Estimated Mutual Information')"
   ]
  },
  {
   "cell_type": "markdown",
   "metadata": {},
   "source": [
    "Both plots look similar, with DateDiff and SMS_received being our features most correlated with the target variable, ShowedUp. This aligns with our pearson correlation plot."
   ]
  }
 ],
 "metadata": {
  "kernelspec": {
   "display_name": "data1030",
   "language": "python",
   "name": "python3"
  },
  "language_info": {
   "codemirror_mode": {
    "name": "ipython",
    "version": 3
   },
   "file_extension": ".py",
   "mimetype": "text/x-python",
   "name": "python",
   "nbconvert_exporter": "python",
   "pygments_lexer": "ipython3",
   "version": "3.12.5"
  }
 },
 "nbformat": 4,
 "nbformat_minor": 2
}
